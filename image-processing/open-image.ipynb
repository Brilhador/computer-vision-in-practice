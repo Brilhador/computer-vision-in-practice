{
 "cells": [
  {
   "cell_type": "markdown",
   "metadata": {},
   "source": [
    "# Visão Geral\n",
    "\n",
    "- Leitura: 30 min\n",
    "- Exercícios: 15 min \n",
    "\n",
    "### Conteúdo:\n",
    "1. Noções básicas de imagens digitais\n",
    "2. \n",
    "\n",
    "### Questões:\n",
    "1.    "
   ]
  },
  {
   "cell_type": "markdown",
   "metadata": {},
   "source": [
    "\n",
    "###     1. Noções básicas de imagens digitais\n",
    "\n",
    "As imagens visualizadas em dispositivos eletrônicos ou processadas em programas são representadas e armazenadas no computador por meio de abstrações númericas, que simulam a visão humana do mundo real.\n",
    "\n",
    "Antes de aprender a realizar o processamento de imagens com python é necessários dedicar algum tempo para entender como essas abstrações funcionam.\n",
    "    \n",
    "####    1.1 Definição dos termos bit e byte\n",
    "\n",
    "Antes de abordar, especificamente, o assunto sobre imagens digitais, é preciso entender como os números são armazenados em um computador. \n",
    "\n",
    "Geralmente, os números são representados no sistema de números decimais ou com valor de base 10. No entanto, a construção de um circuito eletrônico para representar dez estados diferentes é complexo, sendo mais fácil construir circuitos que se restrigem a uma base númerica de dois valores (É mais fácil um circuito diferenciar dois níveis de tensão do que diferenciar 10 níveis). Portanto, os valores em um computador são armazenados usando um sistema de números binários ou de valor de base 2.\n",
    "\n",
    "Nesse sistema, cada símbolo em um número é chamado de bit, em vez de um dígito, e existem apenas dois valores para cada bit (0 e 1). Por exemplo, o número 13 em binário é representado da seguinte forma: 1101, na qual cada bit ativo (1) na representação é somado para obter o número decimal, o valor a ser somado em cada posição é obtido elevando a base 2 ao índice do bit da direita para esquerda,como mostra a tabela a seguir:\n",
    "\n",
    "Posição  | 3 | 2 | 1 | 0 |\n",
    "-------: |--:|--:|--:|--:|\n",
    "**Base** | 2³| 2²| 2¹| 2⁰|\n",
    "\n",
    "13 = 2³ + 2² + 2⁰ = 1101 (bits)\n",
    "\n",
    "Internamente, os computadores têm um número mínimo de bits com os quais trabalham em um determinado momento: oito. Um grupo de oito bits é chamado de **byte**.\n",
    "\n",
    "#### 1.2    Pixels\n",
    "\n",
    "As imagens digitais são armazenadas como matrizes retangulares de centenas, milhares ou milhões de \"elementos de imagem\" discretos, também conhecidos como pixels. Cada pixel representa um nível de intensidade de luz colorida.\n",
    "\n",
    "O nível de intensidade de um pixel, geralmente, é representado por 8 bits, podendo variar entre 0 e 255.\n",
    "\n",
    "#### 1.3    Sistema de Coordenadas\n",
    "\n",
    "Para acessar os pixels de uma imagem digital é utilizado um sistema de coordenadas cartesiano modificado. Este sistema modificado permite apenas valores positivos de coordenadas e possui apenas dois eixos x (horizontal) e y (vertical-invertido), como pode ser observado na figura abaixo:\n",
    "\n",
    "\n",
    "<img src=\"../figures/intensidade_pixel.jpg\" align=\"center\" alt=\"\" width=\"75%\"/>\n",
    "Fonte: Brilhador, A. \n",
    "\n",
    "A função bidimensional f(x, y) representa a intensidade de um pixel em um determinado ponto."
   ]
  },
  {
   "cell_type": "markdown",
   "metadata": {},
   "source": [
    "### Importação da bibliotecas do OpenCV"
   ]
  },
  {
   "cell_type": "code",
   "execution_count": 2,
   "metadata": {
    "tags": []
   },
   "outputs": [
    {
     "output_type": "stream",
     "name": "stdout",
     "text": "Opencv.:4.2.0\n"
    }
   ],
   "source": [
    "import cv2\n",
    "print(\"Opencv.:\" + cv2.__version__)"
   ]
  },
  {
   "cell_type": "code",
   "execution_count": null,
   "metadata": {},
   "outputs": [],
   "source": []
  }
 ],
 "metadata": {
  "language_info": {
   "codemirror_mode": {
    "name": "ipython",
    "version": 3
   },
   "file_extension": ".py",
   "mimetype": "text/x-python",
   "name": "python",
   "nbconvert_exporter": "python",
   "pygments_lexer": "ipython3",
   "version": "3.6.9-final"
  },
  "orig_nbformat": 2,
  "kernelspec": {
   "name": "python36964bitcomputervisioninpracticevenv5d121d267064409f94a42f889b05399a",
   "display_name": "Python 3.6.9 64-bit ('computer-vision-in-practice': venv)"
  }
 },
 "nbformat": 4,
 "nbformat_minor": 2
}