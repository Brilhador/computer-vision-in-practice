{
 "cells": [
  {
   "cell_type": "markdown",
   "metadata": {},
   "source": [
    "----------------------------------\n",
    "\n",
    "# Desafio 01: Moscas Brancas\n",
    "\n",
    "### Requisitos:\n",
    "- Conhecimentos básicos da linguagem Python\n",
    "- Conhecimentos básicos em Notebook Jupyter\n",
    "- Conhecimentos sobre Processamento de Imagens Digitais\n",
    "\n",
    "---------------------------"
   ]
  },
  {
   "cell_type": "markdown",
   "metadata": {},
   "source": [
    "A **mosca branca** é uma praga que causa grandes danos a lavouras de forma direta ou indireta atuando como vetor de vírus fitopatogenicos. Diante disto, o desenvolvimento de métodos de controle deste inseto é fundamental para o agronegócio. \n",
    "\n",
    "Uma aplicação baseada em processamento de imagens para contagem de moscas presentes em uma planta possibilitaria um manejo adequado desta praga.\n",
    "\n",
    "**Desafio:** Escreva um programa que realiza a contagem das moscas brancas nas três imagens abaixo. Para este desafio será permitido apenas o uso de técnicas de processamentos de imagens vistas ou não neste curso. \n",
    "\n",
    "Artigo de referência: https://sol.sbc.org.br/index.php/erigo/article/view/9095/8997\n",
    "\n",
    "![](../../figures/moscas1.jpg)\n",
    "![](../../figures/moscas2.jpg)\n",
    "![](../../figures/moscas3.jpg)"
   ]
  },
  {
   "cell_type": "markdown",
   "metadata": {},
   "source": [
    "As imagens foram extraídas dos seguintes links:\n",
    "\n",
    "https://www.alchimiaweb.com/blogen/control-whiteflies-marijuana-plants/\n",
    "\n",
    "https://www.socalhibiscussociety.org/pro-growers-tips/white-flies/\n",
    "\n",
    "https://www.bioadvanced.com/articles/controlling-whiteflies"
   ]
  }
 ],
 "metadata": {
  "language_info": {
   "codemirror_mode": {
    "name": "ipython",
    "version": 3
   },
   "file_extension": ".py",
   "mimetype": "text/x-python",
   "name": "python",
   "nbconvert_exporter": "python",
   "pygments_lexer": "ipython3",
   "version": "3.6.9-final"
  },
  "orig_nbformat": 2,
  "kernelspec": {
   "name": "python36964bit5055e150f6054ac7ad1e432159eeb6c2",
   "display_name": "Python 3.6.9 64-bit"
  }
 },
 "nbformat": 4,
 "nbformat_minor": 2
}