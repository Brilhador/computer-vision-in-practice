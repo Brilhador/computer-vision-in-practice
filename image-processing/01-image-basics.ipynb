{
 "cells": [
  {
   "cell_type": "markdown",
   "metadata": {},
   "source": [
    "# Visão Geral\n",
    "\n",
    "- Leitura: 10 min\n",
    "- Exercícios: 15 min \n",
    "\n",
    "### Conteúdo:\n",
    "    1. Noções básicas de imagens digitais\n"
   ]
  },
  {
   "cell_type": "markdown",
   "metadata": {},
   "source": [
    "\n",
    "### Noções básicas de imagens digitais\n"
   ]
  },
  {
   "cell_type": "markdown",
   "metadata": {},
   "source": [
    "### Importação da bibliotecas do OpenCV"
   ]
  },
  {
   "cell_type": "code",
   "execution_count": 2,
   "metadata": {
    "tags": []
   },
   "outputs": [
    {
     "output_type": "stream",
     "name": "stdout",
     "text": "Opencv.:4.2.0\n"
    }
   ],
   "source": [
    "import cv2\n",
    "print(\"Opencv.:\" + cv2.__version__)"
   ]
  },
  {
   "cell_type": "code",
   "execution_count": null,
   "metadata": {},
   "outputs": [],
   "source": []
  }
 ],
 "metadata": {
  "language_info": {
   "codemirror_mode": {
    "name": "ipython",
    "version": 3
   },
   "file_extension": ".py",
   "mimetype": "text/x-python",
   "name": "python",
   "nbconvert_exporter": "python",
   "pygments_lexer": "ipython3",
   "version": "3.6.9-final"
  },
  "orig_nbformat": 2,
  "kernelspec": {
   "name": "python36964bitcomputervisioninpracticevenv5d121d267064409f94a42f889b05399a",
   "display_name": "Python 3.6.9 64-bit ('computer-vision-in-practice': venv)"
  }
 },
 "nbformat": 4,
 "nbformat_minor": 2
}