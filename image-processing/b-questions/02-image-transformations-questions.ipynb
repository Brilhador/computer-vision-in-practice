{
 "cells": [
  {
   "cell_type": "markdown",
   "metadata": {},
   "source": [
    "----------------------------------\n",
    "\n",
    "# Visão Geral\n",
    "\n",
    "- Exercícios: 30 min \n",
    "\n",
    "### Requisitos:\n",
    "- Conhecimentos básicos da linguagem Python\n",
    "- Conhecimentos básicos em Notebook Jupyter\n",
    "- Leitura da lição de noções básicas de imagens digitais\n",
    "- Leitura da lição de Transformações de imagens digitais e Operações aritméticas em imagens digitais\n",
    "\n",
    "---------------------------"
   ]
  },
  {
   "cell_type": "markdown",
   "metadata": {},
   "source": [
    "# Questões\n",
    "--- "
   ]
  },
  {
   "cell_type": "markdown",
   "metadata": {},
   "source": [
    "### 1. Abra a imagem televisao.jpg e recorte a televisão presente na imagem removendo sua base. Depois inverta a imagem horizontalmente. Dica: a televisão tem cerca de 190 pixels de altura e 270 pixels de largura."
   ]
  },
  {
   "cell_type": "markdown",
   "metadata": {},
   "source": [
    "### 2. Redimensione a imagem gato.jpg para 190 pixels de altura e 268 pixels de largura e misture com a imagem da televisão recortada de forma que o gato apareça dentro da tela da tv. Dica: crie uma máscara retangular com o tamanho da tela."
   ]
  },
  {
   "cell_type": "code",
   "execution_count": null,
   "metadata": {},
   "outputs": [],
   "source": []
  }
 ],
 "metadata": {
  "language_info": {
   "codemirror_mode": {
    "name": "ipython",
    "version": 3
   },
   "file_extension": ".py",
   "mimetype": "text/x-python",
   "name": "python",
   "nbconvert_exporter": "python",
   "pygments_lexer": "ipython3",
   "version": "3.6.9-final"
  },
  "orig_nbformat": 2,
  "kernelspec": {
   "name": "python36964bit5055e150f6054ac7ad1e432159eeb6c2",
   "display_name": "Python 3.6.9 64-bit"
  }
 },
 "nbformat": 4,
 "nbformat_minor": 2
}